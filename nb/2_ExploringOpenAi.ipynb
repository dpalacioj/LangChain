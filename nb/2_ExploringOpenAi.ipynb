{
 "cells": [
  {
   "cell_type": "code",
   "execution_count": 3,
   "metadata": {},
   "outputs": [],
   "source": [
    "from dotenv import load_dotenv\n",
    "import os\n",
    "from langchain_openai import ChatOpenAI\n",
    "from langchain.schema import HumanMessage, SystemMessage, AIMessage"
   ]
  },
  {
   "cell_type": "code",
   "execution_count": 4,
   "metadata": {},
   "outputs": [],
   "source": [
    "\n",
    "load_dotenv()  # Carga las variables de entorno desde .env\n",
    "\n",
    "open_api_key = os.getenv('OPENAI_API_KEY')"
   ]
  },
  {
   "cell_type": "code",
   "execution_count": 5,
   "metadata": {},
   "outputs": [],
   "source": [
    "chat = ChatOpenAI(\n",
    "    temperature=.5, \n",
    "    model='gpt-3.5-turbo', \n",
    "    api_key=open_api_key,\n",
    "    max_tokens= 500\n",
    "    )"
   ]
  },
  {
   "cell_type": "code",
   "execution_count": 7,
   "metadata": {},
   "outputs": [
    {
     "data": {
      "text/plain": [
       "AIMessage(content=\"Colombia has a bicameral Congress, consisting of the Senate and the Chamber of Representatives. There are a total of 108 senators and 172 representatives, making a total of 280 congressmen in Colombia.\\n\\nThe current President of Colombia is Iván Duque Márquez, who took office on August 7, 2018. He is serving a four-year term as the country's head of state and government.\", additional_kwargs={'refusal': None}, response_metadata={'token_usage': {'completion_tokens': 87, 'prompt_tokens': 39, 'total_tokens': 126, 'completion_tokens_details': {'audio_tokens': None, 'reasoning_tokens': 0}, 'prompt_tokens_details': {'audio_tokens': None, 'cached_tokens': 0}}, 'model_name': 'gpt-3.5-turbo-0125', 'system_fingerprint': None, 'finish_reason': 'stop', 'logprobs': None}, id='run-4fb529be-33d9-4df8-a3ef-ada3229b25ab-0', usage_metadata={'input_tokens': 39, 'output_tokens': 87, 'total_tokens': 126, 'input_token_details': {'cache_read': 0}, 'output_token_details': {'reasoning': 0}})"
      ]
     },
     "execution_count": 7,
     "metadata": {},
     "output_type": "execute_result"
    }
   ],
   "source": [
    "chat.invoke(\n",
    "    [\n",
    "        SystemMessage(content=\"You are an expert in Politic matters in Colombia\"),\n",
    "        HumanMessage(content=\"Please tell me how many congress man are there in Colombia and who is the current president?\")\n",
    "    ]\n",
    ")"
   ]
  },
  {
   "cell_type": "code",
   "execution_count": 6,
   "metadata": {},
   "outputs": [],
   "source": [
    "ourConversation=chat.invoke(\n",
    "    [\n",
    "    SystemMessage(content=\"You are a president of Colombia\"),\n",
    "    HumanMessage(content=\"How can I help people to avoid crimes in the country?\"),\n",
    "    AIMessage(content=\"You have to help and teach about behavior and good acts to everyone who make some crime\"),\n",
    "    HumanMessage(content=\"Can you teach how?\")\n",
    "    ]\n",
    ")"
   ]
  },
  {
   "cell_type": "code",
   "execution_count": 7,
   "metadata": {},
   "outputs": [
    {
     "name": "stdout",
     "output_type": "stream",
     "text": [
      "Certainly! Here are some ways you can help people avoid crimes in Colombia:\n",
      "\n",
      "1. Education and Awareness: Promote education and awareness programs that focus on the consequences of crime and the importance of following the law. Encourage schools to incorporate lessons on ethics, respect, and conflict resolution.\n",
      "\n",
      "2. Community Engagement: Foster a sense of community and encourage neighbors to look out for one another. Support community policing initiatives that involve residents in crime prevention efforts.\n",
      "\n",
      "3. Job Creation and Economic Opportunities: Address the root causes of crime by promoting job creation and economic opportunities, especially in underserved communities. Provide training and support for entrepreneurship and small businesses.\n",
      "\n",
      "4. Strengthen Law Enforcement: Invest in training and resources for law enforcement agencies to improve their effectiveness in preventing and solving crimes. Encourage community policing strategies that build trust between police and residents.\n",
      "\n",
      "5. Rehabilitation and Reintegration: Focus on rehabilitation and reintegration programs for individuals who have committed crimes, providing them with the support and resources they need to reintegrate into society and lead productive lives.\n",
      "\n",
      "6. Support Victims: Provide support services for victims of crime, including counseling, legal assistance, and access to resources. Empower victims to report crimes and seek justice.\n",
      "\n",
      "7. Collaboration and Partnerships: Work with civil society organizations, businesses, and other stakeholders to develop comprehensive crime prevention strategies. Encourage collaboration and information sharing to address the underlying causes of crime.\n",
      "\n",
      "By implementing these strategies and working collaboratively with communities and stakeholders, you can help people in Colombia avoid crimes and create a safer and more secure society for all.\n"
     ]
    }
   ],
   "source": [
    "print(ourConversation.content)"
   ]
  }
 ],
 "metadata": {
  "kernelspec": {
   "display_name": "langchain-udemy",
   "language": "python",
   "name": "python3"
  },
  "language_info": {
   "codemirror_mode": {
    "name": "ipython",
    "version": 3
   },
   "file_extension": ".py",
   "mimetype": "text/x-python",
   "name": "python",
   "nbconvert_exporter": "python",
   "pygments_lexer": "ipython3",
   "version": "3.10.0"
  }
 },
 "nbformat": 4,
 "nbformat_minor": 2
}
